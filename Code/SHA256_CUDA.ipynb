{
  "nbformat": 4,
  "nbformat_minor": 0,
  "metadata": {
    "colab": {
      "name": "SHA256 CUDA.ipynb",
      "provenance": [],
      "collapsed_sections": []
    },
    "kernelspec": {
      "name": "python3",
      "display_name": "Python 3"
    },
    "accelerator": "GPU"
  },
  "cells": [
    {
      "cell_type": "code",
      "metadata": {
        "id": "MFzTOfipLgkv",
        "colab_type": "code",
        "colab": {}
      },
      "source": [
        "from numba import cuda, jit\n",
        "import numpy as np"
      ],
      "execution_count": 0,
      "outputs": []
    },
    {
      "cell_type": "code",
      "metadata": {
        "id": "fCx5Zs6lPViJ",
        "colab_type": "code",
        "colab": {}
      },
      "source": [
        "_SHA256_BLOCK_SIZE = 32\n",
        "\n",
        "_ROTLEFT = lambda a, b : (((a) << (b)) | ((a) >> (32-(b))))\n",
        "_ROTRIGHT = lambda a, b : (((a) >> (b)) | ((a) << (32-(b))))\n",
        "_CH = lambda x, y, z : (((x) & (y)) ^ (~(x) & (z)))\n",
        "_MAJ = lambda x, y, z : (((x) & (y)) ^ ((x) & (z)) ^ ((y) & (z)))\n",
        "_EP0 = lambda x : (_ROTRIGHT(x,2) ^ _ROTRIGHT(x,13) ^ _ROTRIGHT(x,22))\n",
        "_EP1 = lambda x : (_ROTRIGHT(x,6) ^ _ROTRIGHT(x,11) ^ _ROTRIGHT(x,25))\n",
        "_SIG0 = lambda x : (_ROTRIGHT(x,7) ^ _ROTRIGHT(x,18) ^ ((x) >> 3))\n",
        "_SIG1 = lambda x : (_ROTRIGHT(x,17) ^ _ROTRIGHT(x,19) ^ ((x) >> 10))\n",
        "\n",
        "_k = np.array([ 0x428a2f98,0x71374491,0xb5c0fbcf,0xe9b5dba5,0x3956c25b,0x59f111f1,0x923f82a4,0xab1c5ed5,\n",
        "            \t0xd807aa98,0x12835b01,0x243185be,0x550c7dc3,0x72be5d74,0x80deb1fe,0x9bdc06a7,0xc19bf174,\n",
        "        \t    0xe49b69c1,0xefbe4786,0x0fc19dc6,0x240ca1cc,0x2de92c6f,0x4a7484aa,0x5cb0a9dc,0x76f988da,\n",
        "                0x983e5152,0xa831c66d,0xb00327c8,0xbf597fc7,0xc6e00bf3,0xd5a79147,0x06ca6351,0x14292967,\n",
        "                0x27b70a85,0x2e1b2138,0x4d2c6dfc,0x53380d13,0x650a7354,0x766a0abb,0x81c2c92e,0x92722c85,\n",
        "                0xa2bfe8a1,0xa81a664b,0xc24b8b70,0xc76c51a3,0xd192e819,0xd6990624,0xf40e3585,0x106aa070,\n",
        "                0x19a4c116,0x1e376c08,0x2748774c,0x34b0bcb5,0x391c0cb3,0x4ed8aa4a,0x5b9cca4f,0x682e6ff3,\n",
        "                0x748f82ee,0x78a5636f,0x84c87814,0x8cc70208,0x90befffa,0xa4506ceb,0xbef9a3f7,0xc67178f2])"
      ],
      "execution_count": 0,
      "outputs": []
    },
    {
      "cell_type": "code",
      "metadata": {
        "id": "nNCPVdS9Uada",
        "colab_type": "code",
        "colab": {}
      },
      "source": [
        "@cuda.jit(device=True)\n",
        "def cuda_sha256_init(ctx_data, ctx_datalen, ctx_bitlen, ctx_state):\n",
        "    ctx->datalen = 0\n",
        "    ctx->bitlen = 0\n",
        "    ctx->state[0] = 0x6a09e667\n",
        "    ctx->state[1] = 0xbb67ae85\n",
        "    ctx->state[2] = 0x3c6ef372\n",
        "    ctx->state[3] = 0xa54ff53a\n",
        "    ctx->state[4] = 0x510e527f\n",
        "    ctx->state[5] = 0x9b05688c\n",
        "    ctx->state[6] = 0x1f83d9ab\n",
        "    ctx->state[7] = 0x5be0cd19"
      ],
      "execution_count": 0,
      "outputs": []
    },
    {
      "cell_type": "code",
      "metadata": {
        "id": "n4Y6QZGARfI8",
        "colab_type": "code",
        "colab": {}
      },
      "source": [
        "@cuda.jit(device=True)\n",
        "def cuda_sha256_transform(ctx_state, data):\n",
        "    m = np.zeros(64)\n",
        "    i, j = 0, 0\n",
        "    while i < 16:\n",
        "        m[i] = (data[j] << 24) | (data[j+1] << 16) | (data[j+2] << 8) | (data[j+3])\n",
        "        i += 1\n",
        "        j += 4\n",
        "    while i < 64:\n",
        "        m[i] = _SIG1(m[i-2]) + m[i-7] + _SIG0(m[i-15]) + m[i-16]\n",
        "        i += 1\n",
        "    \n",
        "    a, b, c, d, e, f, g, h = ctx_state\n",
        "\n",
        "    i = 0\n",
        "    while i < 64:\n",
        "        t1 = h + _EP1(e) + _CH(e, f, g) + _k[i] + m[i]\n",
        "        t2 = _EP0(a) + _MAJ(a, b, c)\n",
        "        h = g\n",
        "        g = f\n",
        "        f = e\n",
        "        e = d + t1\n",
        "        d = c\n",
        "        c = b\n",
        "        b = a\n",
        "        a = t1 + t2\n",
        "        i += 1\n",
        "    \n",
        "    ctx_state[0] += a\n",
        "    ctx_state[1] += b\n",
        "    ctx_state[2] += c\n",
        "    ctx_state[3] += d\n",
        "    ctx_state[4] += e\n",
        "    ctx_state[5] += f\n",
        "    ctx_state[6] += g\n",
        "    ctx_state[7] += h"
      ],
      "execution_count": 0,
      "outputs": []
    },
    {
      "cell_type": "code",
      "metadata": {
        "id": "F_VrNxoJUtjK",
        "colab_type": "code",
        "colab": {}
      },
      "source": [
        "@cuda.jit(device=True)\n",
        "def cuda_sha256_update(ctx_data, ctx_datalen, ctx_bitlen, ctx_state, data, len):\n",
        "    i = 0\n",
        "    while i < 64:\n",
        "        ctx_data[ctx_datalen] = data[i]\n",
        "        ctx_datalen += 1\n",
        "        if ctx_datalen == 64:\n",
        "            cuda_sha256_transform(ctx_state, ctx_data)\n",
        "            ctx_bitlen += 512\n",
        "            ctx_datalen = 0"
      ],
      "execution_count": 0,
      "outputs": []
    },
    {
      "cell_type": "code",
      "metadata": {
        "id": "vOiS65VCWaUz",
        "colab_type": "code",
        "colab": {}
      },
      "source": [
        "@cuda.jit(device=True)\n",
        "def cuda_sha256_final(ctx_data, ctx_datalen, ctx_bitlen, ctx_state, hash):\n",
        "    i = ctx_datalen\n",
        "    \n",
        "    if ctx_datalen < 56:\n",
        "        ctx_data[i] = 0x80\n",
        "        i += 1\n",
        "        while i < 56:\n",
        "            ctx_data[i] = 0x00\n",
        "            i += 1\n",
        "    else:\n",
        "        ctx_data[i] = 0x80\n",
        "        i += 1\n",
        "        while i < 64:\n",
        "            ctx_data[i] = 0x00\n",
        "            i += 1\n",
        "            cuda_sha256_transform(ctx_state, ctx_data)\n",
        "            j = 0\n",
        "            while j < 56:\n",
        "                ctx_data[j] = 0x00\n",
        "                j += 1\n",
        "\n",
        "    ctx_bitlen += ctx_datalen * 8\n",
        "    ctx_data[63] = ctx_bitlen\n",
        "    ctx_data[62] = ctx_bitlen >> 8\n",
        "    ctx_data[61] = ctx_bitlen >> 16\n",
        "    ctx_data[60] = ctx_bitlen >> 24\n",
        "    ctx_data[59] = ctx_bitlen >> 32\n",
        "    ctx_data[58] = ctx_bitlen >> 40\n",
        "    ctx_data[57] = ctx_bitlen >> 48\n",
        "    ctx_data[56] = ctx_bitlen >> 56\n",
        "    cuda_sha256_transform(ctx_state, ctx_data)\n",
        "\n",
        "    i = 0\n",
        "    while i < 4:\n",
        "        hash[i] = (ctx_state[0] >> (24 - i * 8)) & 0x000000ff\n",
        "        hash[i+4] = (ctx_state[1] >> (24 - i * 8)) & 0x000000ff\n",
        "        hash[i+8] = (ctx_state[2] >> (24 - i * 8)) & 0x000000ff\n",
        "        hash[i+12] = (ctx_state[3] >> (24 - i * 8)) & 0x000000ff\n",
        "        hash[i+16] = (ctx_state[4] >> (24 - i * 8)) & 0x000000ff\n",
        "        hash[i+20] = (ctx_state[5] >> (24 - i * 8)) & 0x000000ff\n",
        "        hash[i+24] = (ctx_state[6] >> (24 - i * 8)) & 0x000000ff\n",
        "        hash[i+28] = (ctx_state[7] >> (24 - i * 8)) & 0x000000ff\n",
        "        i += 1"
      ],
      "execution_count": 0,
      "outputs": []
    },
    {
      "cell_type": "code",
      "metadata": {
        "id": "pj_yv66obL2d",
        "colab_type": "code",
        "colab": {}
      },
      "source": [
        "@cuda.jit\n",
        "def kernel_sha256_hash(indata, inlen, outdata, outlen, n_batch):\n",
        "    thread = cuda.blockIdx.x * cuda.blockDim.x + cuda.threadIdx.x\n",
        "    if thread < n_batch:\n",
        "        cuda_in = indata + thread * inlen\n",
        "        cuda_out = outdata + thread * _SHA256_BLOCK_SIZE\n",
        "        \n",
        "        ctx_data = np.zeros(64)\n",
        "        ctx_datalen = 0\n",
        "        ctx_bitlen = 0\n",
        "        ctx_state = np.zeroes(8)\n",
        "\n",
        "        cuda_sha256_init(ctx_data, ctx_datalen, ctx_bitlen, ctx_state)\n",
        "        cuda_sha256_update(ctx_data, ctx_datalen, ctx_bitlen, ctx_state, cuda_in, inlen)\n",
        "        cuda_sha256_final(ctx_data, ctx_datalen, ctx_bitlen, ctx_state, cuda_out)"
      ],
      "execution_count": 0,
      "outputs": []
    },
    {
      "cell_type": "code",
      "metadata": {
        "id": "RIjONWhkdxMq",
        "colab_type": "code",
        "colab": {}
      },
      "source": [
        "def mcm_cuda256_hash_batch(indata, inlen, outdata, outlen, n_batch):\n",
        "    cuda_indata = cuda.todevice(indata)\n",
        "    cuda_outdata = cuda.device_array(_SHA256_BLOCK_SIZE * n_batch)\n",
        "\n",
        "    thread = 256\n",
        "    block = (n_batch+thread-1) / thread\n",
        "\n",
        "    kernel_sha256_hash[block, thread](cuda_indata, inlen, cuda_outdata, outlen, n_batch)\n",
        "    cuda.synchronize()\n",
        "\n",
        "    outdata = cuda_outdata.copy_to_host()"
      ],
      "execution_count": 0,
      "outputs": []
    }
  ]
}